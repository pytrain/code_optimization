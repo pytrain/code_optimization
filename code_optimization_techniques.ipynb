{
 "cells": [
  {
   "cell_type": "markdown",
   "metadata": {},
   "source": [
    "![NASA](http://www.nasa.gov/sites/all/themes/custom/nasatwo/images/nasa-logo.svg)\n",
    "\n",
    "<center>\n",
    "<h1><font size=\"+3\">GSFC Python Bootcamp</font></h1>\n",
    "</center>\n",
    "\n",
    "---\n",
    "\n",
    "<CENTER>\n",
    "<H1 style=\"color:red\">\n",
    "Code Optimization Techniques\n",
    "</H1>\n",
    "</CENTER>"
   ]
  },
  {
   "cell_type": "code",
   "execution_count": null,
   "metadata": {},
   "outputs": [],
   "source": [
    "from __future__ import print_function"
   ]
  },
  {
   "cell_type": "markdown",
   "metadata": {},
   "source": [
    "## <font color='red'>What will be Covered?</font>"
   ]
  },
  {
   "cell_type": "markdown",
   "metadata": {},
   "source": [
    "* Code Profiling\n",
    "* Import Statement Overhead\n",
    "* Functions\n",
    "* Loop Optimization\n",
    "* String Manipulation\n",
    "* Numerical Code"
   ]
  },
  {
   "cell_type": "markdown",
   "metadata": {},
   "source": [
    "## <font color='red'>Reference Documents</font>"
   ]
  },
  {
   "cell_type": "markdown",
   "metadata": {},
   "source": [
    "<OL>\n",
    "<LI> <A HREF=\"https://www.techbeamers.com/python-code-optimization-tips-tricks/\">Essential Python Code Optimization Tips and Tricks</A>\n",
    "<LI> <A HREF=\"https://wiki.python.org/moin/PythonSpeed/PerformanceTips\">Python Speed/Performance Tips</A>\n",
    "<LI> <A HREF=\"https://www.codementor.io/satwikkansal/python-practices-for-efficient-code-performance-memory-and-usability-aze6oiq65\">Python Practices for Efficient Code: Performance, Memory, and Usability</A>\n",
    "</OL>"
   ]
  },
  {
   "cell_type": "markdown",
   "metadata": {},
   "source": [
    "## <font color='red'>Introduction</font>"
   ]
  },
  {
   "cell_type": "markdown",
   "metadata": {},
   "source": [
    "We want to write Python codes that have the following features:\n",
    "\n",
    "* Can run and produce the expected results\n",
    "* Easy to maintain\n",
    "* Readable\n",
    "* Reusable\n",
    "* Shareable\n",
    "* **<font color='blue'>Run fast</font>**"
   ]
  },
  {
   "cell_type": "markdown",
   "metadata": {},
   "source": [
    "At least, when you write a Python code:\n",
    "\n",
    "* Write simple functions that do as little work as possible.\n",
    "* Follow the Python coding standards\n",
    "* Properly document your code\n",
    "* Write your code as a package even if you do not plan to deploy it "
   ]
  },
  {
   "cell_type": "markdown",
   "metadata": {},
   "source": [
    "* Computing resources are expensive and limited.\n",
    "* Optimization is important in reducing operational costs in terms of storage, memory, or computing power."
   ]
  },
  {
   "cell_type": "markdown",
   "metadata": {},
   "source": [
    "**Here, we are interested in identifying techniques to speed up Python codes and reduce the memory footprint.**"
   ]
  },
  {
   "cell_type": "markdown",
   "metadata": {},
   "source": [
    "## <font color='red'>Profile Your Code </font>\n",
    "\n",
    "* Before we can optimize our code, it has to be working!\n",
    "* Profiling a code is to analyze its performance in order to identify how it performs in various situations and the areas where improvement might be needed.\n",
    "* Profiling enables us to identify the amount of time that a program takes or the amount of memory it uses. "
   ]
  },
  {
   "cell_type": "markdown",
   "metadata": {},
   "source": [
    "### timeit Module\n",
    "\n",
    "* The module **timeit** records the time a segment of your code takes for execution.\n",
    "* It measures the time elapsed in milliseconds."
   ]
  },
  {
   "cell_type": "code",
   "execution_count": null,
   "metadata": {},
   "outputs": [],
   "source": [
    "import numpy as np\n",
    "a = np.arange(1000)\n",
    "\n",
    "%timeit a ** 2\n",
    "%timeit a ** 2.1\n",
    "%timeit a * a"
   ]
  },
  {
   "cell_type": "code",
   "execution_count": null,
   "metadata": {},
   "outputs": [],
   "source": [
    "import timeit\n",
    "\n",
    "subStrings=['Sun', 'Mon', 'Tue', 'Wed', 'Thu', 'Fri', 'Sat']\n",
    "\n",
    "def simpleString(subStrings):\n",
    "  finalString = ''\n",
    "  for part in subStrings:\n",
    "    finalString += part\n",
    "  return finalString\n",
    " \n",
    "def formatString(subStrings):\n",
    "  finalString = \"%s%s%s%s%s%s%s\" % (subStrings[0], subStrings[1],\n",
    "  subStrings[2], subStrings[3],\n",
    "  subStrings[4], subStrings[5],\n",
    "  subStrings[6])\n",
    "  return finalString\n",
    " \n",
    "def joinString(subStrings):\n",
    "  return ''.join(subStrings)\n",
    "\n",
    "print('joinString()   Time : ' + \\\n",
    "      str(timeit.timeit('joinString(subStrings)', setup='from __main__ import joinString, subStrings')))\n",
    "print('formatString() Time : '+ \\\n",
    "      str(timeit.timeit('formatString(subStrings)', setup='from __main__ import formatString, subStrings')))\n",
    "print('simpleString() Time : ' + \\\n",
    "      str(timeit.timeit('simpleString(subStrings)', setup='from __main__ import simpleString, subStrings')))"
   ]
  },
  {
   "cell_type": "markdown",
   "metadata": {},
   "source": [
    "### cprofile Module\n",
    "\n",
    "* Describe how often and how long various parts of Python code are executed\n",
    "\n"
   ]
  },
  {
   "cell_type": "code",
   "execution_count": null,
   "metadata": {},
   "outputs": [],
   "source": [
    "import cProfile, pstats, StringIO\n",
    "pr = cProfile.Profile()\n",
    "pr.enable()       # Start collecting profiling data.\n",
    "# ... do something ...\n",
    "pr.disable()      # Stop collecting profiling data.\n",
    "s = StringIO.StringIO()\n",
    "sortby = 'cumulative'\n",
    "ps = pstats.Stats(pr, stream=s).sort_stats(sortby)\n",
    "ps.print_stats()\n",
    "print(s.getvalue())"
   ]
  },
  {
   "cell_type": "markdown",
   "metadata": {},
   "source": [
    "python -m cProfile [-o output_file] [-s sort_order] myscript.py "
   ]
  },
  {
   "cell_type": "markdown",
   "metadata": {},
   "source": [
    "#### Example"
   ]
  },
  {
   "cell_type": "code",
   "execution_count": null,
   "metadata": {},
   "outputs": [],
   "source": [
    "# %load write_sorted.py\n",
    "#\"\"\"Sorting a large, randomly generated string and writing it to disk\"\"\"\n",
    "my_code = \"\"\"import random\n",
    "\n",
    "\n",
    "def write_sorted_letters(nb_letters=10**7):\n",
    "    random_string = ''\n",
    "    for i in range(nb_letters):\n",
    "        random_string += random.choice('abcdefghijklmnopqrstuvwxyz')\n",
    "    sorted_string = sorted(random_string)\n",
    "\n",
    "    with open(\"sorted_text.txt\", \"w\") as sorted_text:\n",
    "        for character in sorted_string:\n",
    "            sorted_text.write(character)\n",
    "\n",
    "if __name__ == '__main__':\n",
    "    write_sorted_letters()\n",
    "\"\"\"\n",
    "\n",
    "with open(\"write_sorted.py\", \"w\") as f:\n",
    "     f.write(my_code)"
   ]
  },
  {
   "cell_type": "code",
   "execution_count": null,
   "metadata": {},
   "outputs": [],
   "source": [
    "%run -t write_sorted.py"
   ]
  },
  {
   "cell_type": "code",
   "execution_count": null,
   "metadata": {},
   "outputs": [],
   "source": [
    "# From the command line:\n",
    "python -m cProfile -s tottime write_sorted.py"
   ]
  },
  {
   "cell_type": "markdown",
   "metadata": {},
   "source": [
    "## <font color='red'>Import Statement Overhead</font>"
   ]
  },
  {
   "cell_type": "markdown",
   "metadata": {},
   "source": [
    "* **import** statements can be executed just about anywhere\n",
    "* For code readbility, it is preferable to include **import** statements on top of the file only.\n",
    "* May need to place them inside functions to restrict their visibility and/or reduce initial startup time\n",
    "* Repeatedly executing an **import** statement can seriously affect performance "
   ]
  },
  {
   "cell_type": "code",
   "execution_count": null,
   "metadata": {},
   "outputs": [],
   "source": [
    "def doit1():\n",
    "    import numpy as np ###### import statement inside function\n",
    "    a = np.array(range(200))\n",
    "\n",
    "import numpy as np ###### import statement outside function\n",
    "def doit2():\n",
    "    a = np.array(range(200))"
   ]
  },
  {
   "cell_type": "code",
   "execution_count": null,
   "metadata": {},
   "outputs": [],
   "source": [
    "import timeit\n",
    "t1 = timeit.Timer(setup='from __main__ import doit1', stmt='doit1()')\n",
    "t1.timeit()"
   ]
  },
  {
   "cell_type": "code",
   "execution_count": null,
   "metadata": {},
   "outputs": [],
   "source": [
    "t2 = timeit.Timer(setup='from __main__ import doit2', stmt='doit2()')\n",
    "t2.timeit()"
   ]
  },
  {
   "cell_type": "markdown",
   "metadata": {},
   "source": [
    "* For a function that needs to import modules, introduce conditional statements (as far as possible) so that the **import** statements are executed once."
   ]
  },
  {
   "cell_type": "code",
   "execution_count": null,
   "metadata": {},
   "outputs": [],
   "source": [
    "email = None\n",
    "\n",
    "def parse_email():\n",
    "    global email\n",
    "    if email is None:\n",
    "        import email\n",
    "    ..."
   ]
  },
  {
   "cell_type": "markdown",
   "metadata": {},
   "source": [
    "## <font color='red'>Functions</font>"
   ]
  },
  {
   "cell_type": "markdown",
   "metadata": {},
   "source": [
    "* Function call overhead in Python is relatively high\n",
    "* Use builtin functions and libraries if they exist instead of creating your own\n",
    "* Functions should handle data aggregate"
   ]
  },
  {
   "cell_type": "code",
   "execution_count": null,
   "metadata": {},
   "outputs": [],
   "source": [
    "import time\n",
    "x = 0\n",
    "def doit1(i):\n",
    "    global x\n",
    "    x = x + i\n",
    "\n",
    "t = time.time()\n",
    "list = range(1000000)\n",
    "for i in list:\n",
    "    doit1(i)\n",
    "\n",
    "print(\"Time for doit1: %.4f\" % (time.time()-t))\n"
   ]
  },
  {
   "cell_type": "code",
   "execution_count": null,
   "metadata": {},
   "outputs": [],
   "source": [
    "x = 0\n",
    "def doit2(list):\n",
    "    global x\n",
    "    for i in list:\n",
    "        x = x + i\n",
    "\n",
    "t = time.time()\n",
    "list = range(1000000)\n",
    "doit2(list)\n",
    "\n",
    "print(\"Time for doit2: %.4f\" % (time.time()-t))"
   ]
  },
  {
   "cell_type": "markdown",
   "metadata": {},
   "source": [
    "## <font color='red'>Loop Optimization</font>"
   ]
  },
  {
   "cell_type": "markdown",
   "metadata": {},
   "source": [
    "*  for **loop** can add a substantial amount of the overhead"
   ]
  },
  {
   "cell_type": "markdown",
   "metadata": {},
   "source": [
    "#### List Comprehension"
   ]
  },
  {
   "cell_type": "code",
   "execution_count": null,
   "metadata": {},
   "outputs": [],
   "source": [
    "# Avoid\n",
    "newlist = []\n",
    "for word in oldlist:\n",
    "    newlist.append(word.upper())\n",
    "    \n",
    "# Better\n",
    "newlist = map(str.upper, oldlist)\n",
    "newlist = [s.upper() for s in oldlist]"
   ]
  },
  {
   "cell_type": "markdown",
   "metadata": {},
   "source": [
    "#### Initializing Dictionary Elements"
   ]
  },
  {
   "cell_type": "code",
   "execution_count": null,
   "metadata": {},
   "outputs": [],
   "source": [
    "# Bad\n",
    "wdict = {}\n",
    "for word in words:\n",
    "    if word not in wdict:\n",
    "        wdict[word] = 0\n",
    "    wdict[word] += 1\n",
    "\n",
    "# Better\n",
    "wdict = {}\n",
    "for word in words:\n",
    "    try:\n",
    "        wdict[word] += 1\n",
    "    except KeyError:\n",
    "        wdict[word] = 1"
   ]
  },
  {
   "cell_type": "markdown",
   "metadata": {},
   "source": [
    "### Examples"
   ]
  },
  {
   "cell_type": "code",
   "execution_count": null,
   "metadata": {},
   "outputs": [],
   "source": [
    "import timeit\n",
    "import itertools\n",
    "\n",
    "Zipcodes = ['121212','232323','434334']\n",
    "newZipcodes = ['  131313 ',' 242424   ',' 212121 ','  323232','342312  ',' 565656 ']\n",
    "\n",
    "def updateZips(newZipcodes, Zipcodes):\n",
    "    for zipcode in newZipcodes:\n",
    "        Zipcodes.append(zipcode.strip())\n",
    "\n",
    "def updateZipsWithMap(newZipcodes, Zipcodes):\n",
    "    Zipcodes += map(str.strip, newZipcodes)\n",
    "\n",
    "def updateZipsWithListCom(newZipcodes, Zipcodes):\n",
    "    Zipcodes += [iter.strip() for iter in newZipcodes]\n",
    "\n",
    "def updateZipsWithGenExp(newZipcodes, Zipcodes):\n",
    "    return itertools.chain(Zipcodes, (iter.strip() for iter in newZipcodes))\n",
    "\n",
    "\n",
    "print('updateZips() Time            : ' + \\\n",
    "      str(timeit.timeit('updateZips(newZipcodes, Zipcodes)', setup='from __main__ import updateZips, newZipcodes, Zipcodes')))\n",
    "\n",
    "Zipcodes = ['121212','232323','434334']\n",
    "print('updateZipsWithMap() Time     : ' + \\\n",
    "      str(timeit.timeit('updateZipsWithMap(newZipcodes, Zipcodes)', setup='from __main__ import updateZipsWithMap, newZipcodes, Zipcodes')))\n",
    "\n",
    "Zipcodes = ['121212','232323','434334']\n",
    "print('updateZipsWithListCom() Time : ' + \\\n",
    "      str(timeit.timeit('updateZipsWithListCom(newZipcodes, Zipcodes)', setup='from __main__ import updateZipsWithListCom, newZipcodes, Zipcodes')))\n",
    "\n",
    "Zipcodes = ['121212','232323','434334']\n",
    "print('updateZipsWithGenExp() Time  : ' + \\\n",
    "      str(timeit.timeit('updateZipsWithGenExp(newZipcodes, Zipcodes)', setup='from __main__ import updateZipsWithGenExp, newZipcodes, Zipcodes')))"
   ]
  },
  {
   "cell_type": "markdown",
   "metadata": {},
   "source": [
    "## <font color='red'>String Manipulation</font>"
   ]
  },
  {
   "cell_type": "markdown",
   "metadata": {},
   "source": [
    "#### Looking to create a string"
   ]
  },
  {
   "cell_type": "code",
   "execution_count": null,
   "metadata": {},
   "outputs": [],
   "source": [
    "# Avoid\n",
    "s = \"\"\n",
    "for x in list:\n",
    "    s += some_function(x)\n",
    "\n",
    "# Better\n",
    "slist = [some_function(elt) for elt in somelist]\n",
    "s = \"\".join(slist)"
   ]
  },
  {
   "cell_type": "markdown",
   "metadata": {},
   "source": [
    "#### Use string formatting"
   ]
  },
  {
   "cell_type": "code",
   "execution_count": null,
   "metadata": {},
   "outputs": [],
   "source": [
    "# Avoid\n",
    "out = \"<html>\" + head + prologue + query + tail + \"</html>\"\n",
    "\n",
    "# Better\n",
    "out = \"<html>%s%s%s%s</html>\" % (head, prologue, query, tail)\n",
    "\n",
    "#or\n",
    "\n",
    "out = \"<html>%(head)s%(prologue)s%(query)s%(tail)s</html>\" % locals()"
   ]
  },
  {
   "cell_type": "markdown",
   "metadata": {},
   "source": [
    "#### Exercise\n",
    "\n",
    "Time each of the for code segments below"
   ]
  },
  {
   "cell_type": "code",
   "execution_count": null,
   "metadata": {},
   "outputs": [],
   "source": [
    "# slow O(n^2) \n",
    "s = 'Advance Python Bootcamp at Goddard Space Flight Center'\n",
    "slist = '' \n",
    "for i in s: \n",
    "    slist = slist + i \n",
    "print slist \n",
    "      \n",
    "# string concatenation (idiomatic and fast O(n)) \n",
    "s = 'Advance Python Bootcamp at Goddard Space Flight Center'\n",
    "slist = ''.join([i for i in s]) \n",
    "print slist \n",
    "  \n",
    "# slow \n",
    "p = ' Python'\n",
    "b = ' Bootcamp'\n",
    "g = ' Goddard'\n",
    "f = ' Flight'\n",
    "c = ' Center'\n",
    "s = 'Advance'+ p + b +' at' + g ' Space' + f + c\n",
    "print s \n",
    "  \n",
    "# fast \n",
    "s = 'geeks %s geeks' % v \n",
    "s = 'Advance %s%s at %s Space %s%s' %(p,b,g,f,c)\n",
    "print s "
   ]
  },
  {
   "cell_type": "markdown",
   "metadata": {},
   "source": [
    "## <font color='red'>Numerical Codes</font>"
   ]
  },
  {
   "cell_type": "markdown",
   "metadata": {},
   "source": [
    "#### List vs Numpy Arrays\n",
    "\n",
    "*  Use Numpy arrays instead of list"
   ]
  },
  {
   "cell_type": "code",
   "execution_count": null,
   "metadata": {},
   "outputs": [],
   "source": []
  },
  {
   "cell_type": "markdown",
   "metadata": {},
   "source": [
    "#### Loops vs Vectorization\n",
    "\n",
    "* Avoid for loops using numpy arrays\n",
    "* Use array slicing or masks"
   ]
  },
  {
   "cell_type": "code",
   "execution_count": null,
   "metadata": {},
   "outputs": [],
   "source": []
  },
  {
   "cell_type": "markdown",
   "metadata": {},
   "source": [
    "###  In Place Arithmetic"
   ]
  },
  {
   "cell_type": "code",
   "execution_count": null,
   "metadata": {},
   "outputs": [],
   "source": [
    "import numpy as np\n",
    "n = 100000000\n",
    "a = np.zeros(n)\n",
    "%timeit global a ; a = 0*a\n",
    "\n",
    "a = np.zeros(n)\n",
    "%timeit global a ; a *= 0"
   ]
  },
  {
   "cell_type": "markdown",
   "metadata": {},
   "source": [
    "### Use Views and not Copy \n",
    "\n",
    "* Copying big arrays is as costly as making simple numerical operations on them"
   ]
  },
  {
   "cell_type": "code",
   "execution_count": null,
   "metadata": {},
   "outputs": [],
   "source": [
    "import numpy as np\n",
    "n = 100000000\n",
    "a = np.zeros(n)\n",
    "%timeit a.copy()\n",
    "\n",
    "a = np.zeros(n)\n",
    "%timeit a + 1"
   ]
  },
  {
   "cell_type": "markdown",
   "metadata": {},
   "source": [
    "### Cache Effects\n",
    "\n",
    "* Memory access is cheaper when it is grouped\n",
    "* Accessing a big array in a continuous way is much faster than random access\n",
    "* Smaller strides are faster"
   ]
  },
  {
   "cell_type": "code",
   "execution_count": null,
   "metadata": {},
   "outputs": [],
   "source": [
    "import numpy as np\n",
    "n = 10000\n",
    "c = np.zeros((n, n), order='C')\n",
    "\n",
    "%timeit c.sum(axis=0)\n",
    "%timeit c.sum(axis=1)\n",
    "\n",
    "print(c.strides)"
   ]
  },
  {
   "cell_type": "raw",
   "metadata": {},
   "source": [
    "This is the reason why Fortran ordering or C ordering may make a big difference on operations:"
   ]
  },
  {
   "cell_type": "code",
   "execution_count": null,
   "metadata": {},
   "outputs": [],
   "source": [
    "a = np.random.rand(200, 2**18)\n",
    "\n",
    "b = np.random.rand(200, 2**18)\n",
    "%timeit np.dot(b, a.T)\n",
    "\n",
    "c = np.ascontiguousarray(a.T)\n",
    "%timeit np.dot(b, c)\n",
    "\n",
    "# Note that copying the data to work around this effect \n",
    "# may not be worth it:\n",
    "%timeit c = np.ascontiguousarray(a.T)"
   ]
  },
  {
   "cell_type": "markdown",
   "metadata": {},
   "source": [
    "## <font color='red'>Memory Optimization</font>"
   ]
  },
  {
   "cell_type": "markdown",
   "metadata": {},
   "source": [
    "* Limit the number of variables\n",
    "* If possible avoid using the **global** keyword. Python is faster retrieving local variables.\n",
    "* Set variables (especially large arrays) to **None** when no longer used."
   ]
  },
  {
   "cell_type": "code",
   "execution_count": null,
   "metadata": {},
   "outputs": [],
   "source": []
  }
 ],
 "metadata": {
  "kernelspec": {
   "display_name": "Python 3",
   "language": "python",
   "name": "python3"
  },
  "language_info": {
   "codemirror_mode": {
    "name": "ipython",
    "version": 3
   },
   "file_extension": ".py",
   "mimetype": "text/x-python",
   "name": "python",
   "nbconvert_exporter": "python",
   "pygments_lexer": "ipython3",
   "version": "3.7.1"
  }
 },
 "nbformat": 4,
 "nbformat_minor": 1
}
